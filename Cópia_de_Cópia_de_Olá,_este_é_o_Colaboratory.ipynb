{
  "cells": [
    {
      "cell_type": "markdown",
      "metadata": {
        "id": "view-in-github",
        "colab_type": "text"
      },
      "source": [
        "<a href=\"https://colab.research.google.com/github/geissemarques/treino_de_muscula-o/blob/main/C%C3%B3pia_de_C%C3%B3pia_de_Ol%C3%A1%2C_este_%C3%A9_o_Colaboratory.ipynb\" target=\"_parent\"><img src=\"https://colab.research.google.com/assets/colab-badge.svg\" alt=\"Open In Colab\"/></a>"
      ]
    },
    {
      "cell_type": "code",
      "execution_count": null,
      "metadata": {
        "id": "ogVRE_B61HiF"
      },
      "outputs": [],
      "source": [
        "nome=input('Digite o seu nome completo: ')\n",
        "print('Objetivo:')\n",
        "objetivo=('1-Reducao de gordura\\n2-Hipertrofia')\n",
        "print(objetivo)\n",
        "opcao=input('Digite opcao desejada: ')\n",
        "print('\\n')\n",
        "print('Nivel:')\n",
        "nivel=('1-Iniante\\n2-Intermediário 1 (4 meses)\\n3-Intermediário 2 (6 meses)\\n4-Avancado')\n",
        "print(nivel)\n",
        "nivel1=input('Digite o seu nivel:')\n",
        "if (opcao == '1') and (nivel1 == '1'):\n",
        "  print('\\nTreino de inferiores:\\nSegunda\\n1-Agachamento 3x15 + 30x step\\n2-Cadeira extensora 3x15 + 1 minuto elíptico\\n3-Leg 45 3x15 + 30 abs\\n4-Hack 3x15 + 30x corda\\n5-Panturrilha 3x15\\n6-esteira 3 minutos de corrida\\n')\n",
        "  print('Treino de superiores\\nTerca e quinta\\n1-Puxador de Frente 3x15 + 1 minuto no elíptico\\n2-Remada baixa 3x15 + 30x step\\n3-Pack dack inverso 3x15 + 1 minuto esteira\\n4-rosca direta 5x15 +remada alta + 1 minuto na bike\\n5-Supino reto ( aparelho) + 30 abs\\n6-Pully 5x15 + 30x corda\\n7-Elevacao lateral 5X10 + 1 minuto elíptico\\n' )\n",
        "  print('Treino de inferiores\\nQuarta\\n1-Avanco apoiado 3x12 + 30x step\\n2-3 apoios na máquina 3x15\\n3-Abdutor 3x15 + 1 minuto elíptico\\n4-sumo apoiado 3x15 + 30x corda\\n5-Mesa flexora 5x15\\n6-3 minutos esteira\\n')\n",
        "  print('Treino de inferiores\\nSexta\\n1-agachamento no banco 3x15 + 30x step\\n2-Cadeira extensora 3x15\\n3-Leg 45 3x15\\n4-Abdutor 3x15 + 1 minuto no elíptico\\n5-Mesa flexora 5x12\\n6-Panturrilha 3x15\\n')\n",
        "elif (opcao== '1') and (nivel == '2'):\n",
        "  print('\\nTreino de inferiores\\nSegunda\\n1-Cadeira extensora 2x drop + 1 minuto no elíptico\\n2-Agachamento no smith 3x15 + 15 halter + 30xstep\\n3-Leg 45 3x15 paralelo + 15 abduzido + prancha de 30 segundos\\n4-Hack 3x10 segura 10 segundos + 10 direto + 30x polichinelo\\n5-Passada 3x20 passos + 1 minuto na bike\\n6-Panturrilha 7x10 com 10 segundos de descanso\\n')\n",
        "  print('Treino de superiores\\nTerca e quinta\\n1-Puxador de frente 3x6 carga alta + 20 carga leve + 1 minuto no elíptico\\n2-Remada baixa 2x10-10-10 + 40 x step\\n3-Cavalo 3x15 + 30x polichinelo\\n4-Rosca 21 3x + 1 minuto de esteira\\n5-Pack dack 3x15 + 1 minuto na esteira(corrida)\\n6-Elevacao frontal 5x10 + 1 minuto elíptico\\n7-Pully corda 2x dropp + 30x corda\\n ')\n",
        "  print('Treino de inferiores\\nQuarta\\n1-Avanco no smith 3x15 + 30x step\\n2-3 apoios na maquina 2x drop\\n3-Abdutor 3x10 segura 10 segundos + 10 segura 10 segundos até falhar + 1 minuto no elítico\\n4-Sumo 3x15 + 15 com peso do corpo + 1 minuto na bike\\n5-Mesa flexora 2x drop\\n6-Stiff 3x15 + 1 min esteira\\n')\n",
        "  print('Treino de inferiores\\nSexta\\n1-Cadeira extensora 2x drop + 1 minuto no elíptico\\n2-Leg 45 3x15 paralelo + 15 abduzido\\n3-panturrilha 7x10 com descanso de 10 segundos\\n4-Abdutor 3x10 segura 10 segundos + 10 segura 10 segundos\\n5-Sumo 3x15 + 15 com peso do corpo + 1 minuto na bike\\n6-Mesa flexora 2x drop\\n')\n",
        "\n",
        "elif (opcao == '2') and (nivel1 == '1'):\n",
        "  print('\\nTreino de inferiores:\\nsegunda\\n1-Cadeira extensora 3x15 com pico 3 segundos de isometria\\n2-Agachamento 3x15\\n3-Leg 45 3x15\\n4-hack 3x15 + 10 segundos de iesometria\\n5-Leg 90 3x15\\n6-Panturrilha 3x15\\n')\n",
        "  print('Treino de superiores\\nTerca e quinta\\n1-Puxador de frente 3x15\\n2-Remada baixa 3x15\\n3-Pack dack 3x15\\n4-Rosca direta + remada alta 5x15\\n5-Supino reto 5x10\\n6-Pulley 5x15\\n7-Elevacao lateral 5x10\\n')\n",
        "  print('Treino de inferiores\\nQuarta\\n1-Avanco apoiado 3x15\\n2-3 apoios na máquina 3x15\\n3-Abdutor 3x20+ 10 segundos de isometria\\n4-Sumo apoiado 3x15\\n5-Mesa flexora 5x10\\n6-Leg 90 3x12\\n')\n",
        "  print('treino de inferiores\\nSexta\\n1-Cadeira extensora 3x15 com pico de 2 segundos\\n2-Leg 45 3x15 + panturrilha livre 15x\\n3-Avanco 3x15\\n4-3 Apoios na máquina 3x15\\n5-abdutor 3x20 com 10 de isometria\\n6-Mesa flexora 5x10\\n') \n",
        "  \n",
        "elif (opcao == '2') and (nivel == '2'):\n",
        "  print('\\nTreino de inferiores\\nSegunda\\n1-cadeira extensora 3x drop\\n2-Agachamento smith 3x15 + 15 com halter\\n3-Leg 45 3x15 paralelo + 15 abduzidos\\n4-Hack 3x 2 segura 2 de ismetria + 3 segura 3 de isometria + 4 segura 4 de isometria....7\\n5-Passada 4x 20 passos\\n6-Leg 90 3x15 + 10 segundos de isometria\\n7-Panturrilha 7x10 com descanso de 10 segundos\\n')\n",
        "  print('Treino de superiores\\nTerca e quinta\\n1-Puxador de frente 3x6-20\\n2-Remada baixa 2x drop\\n3-Cavalo 3x15 + 10 segundos de isometria\\n3-Rosca 21 3x\\n4-Pack dack 3x15\\n5-Elevacao frontal 5x10\\n6-Pully corda 2x drop\\n7-Testa 3x15\\n')\n",
        "  print('Treino de inferiores\\nQuarta\\n1-Elevacao do quadril 4x20 + 10 segundos de isometria\\n2-Avanco no smith 3x15\\n3-3 apoios no aparelho 3x drop\\n4-Abdutor 4x10 segura 10 segundos de isometria + 10 segura segundos de iesometria até falhar\\n5-Sumo 3x15 + 15 com peso do corpo\\n6-Mesa flexora 3x drop\\n7-Stiff 3x15\\n')\n",
        "  print('Treino de inferiores\\nSexta\\n1-Cadeira extensora 3x drop\\n2-Agachamento no smith 3x15 + 15 com halter\\n3-Leg 45 3x15 paralelo\\n4-Panturrilha 7x10 com descanso de 10 segundos\\n5-Abdutor 4x10 segura 10 segundos de isometria + 10 segura 10 segundos de isometria até falhar\\n6-elevacao do quadril 4x20 + 10 segundos de isometria\\n7-mesa flexora 3x drop\\n')\n",
        "elif (opcao == '1') and (nivel1 == '3'):\n",
        "  print('\\nTreino de inferiores\\nSegunda\\n1-Cadeira extensora 3x juro/juro + 1 minuto no elíptico\\n2-Agachamento livre 4x15 + 40x step\\n3-Leg 45 3x aumentando a carga + 30x corda\\n4-Hack 20/15/10/8/6 + 30x swing\\n5-Leg 90 4x6 a 8 (carga alta) + 30x abs\\n6-4 minuto esteira(corrida)\\n7-Panturrilha no smith 3x15 pico de contracao de 2 segundos\\n')\n",
        "  print('Treino de superiores\\nTerca e quinta\\n1-Puxador de frente com a pegada supinada 3x aumentando a carga + encolhimento 15x + 1 minuto no elípico\\n2-Remada baixa 3x15 + 15 movimento curto + 40x step\\n3-Remada livre 3x15 + 1 minuto esteira (corrida)\\n4-rosca no cross 3x drop + 30x corda\\n5-pully 4x6-20 + Testa até a falha\\n6-Crucifixo 5x15 + 30x abs\\n7-Desenvolvimento de frente com halter 5x15 + 1 minuto na bike\\n')\n",
        "  print('Treino de inferiores\\nQuarta\\n1-Elevacao do quadril 3x15 + 10 segundos de isometria + 40x step\\n2-Avanco no smith 3x15 + 15 com halter\\n3-3 apoios na maquina 3xRRA + 30x corda\\n4-Abdutor 3x drop + 1 minuto no elíptico\\n5-Mesa flexora 7x10 com descanso de 10 segundos\\n6-Stiff 3x aumentando a carga + 30x swing\\n7-Flexao vertical 3x15\\n')\n",
        "  print('Treino de inferiores\\nSexta\\n1-Cadeira extensora 3x juro\\juro + 1 minuto no elíptico\\n2-Leg 45 3x aumentando a carga + 30 corda\\n3-Agachamento livre 4x15 + 40x step\\n4-panturrilha no smit 3x15 com pico de contracao de  2 segundos\\n5-Abdutor 3x drop + 1 minuto no elíptico\\n6-Elevacao do quadril 3x15 com 10 segundos de iesometria + 30x swing\\n7-Mesa flexora 7x10 com descanso de 10 segundos\\n ')\n",
        "elif (opcao == '2') and (nivel1 == '3'):\n",
        "  print('\\nTreino de inferiores\\nSegunda\\n1-Cadeira extensora 3x juro/juro\\n2-Agachamento livre 4x15\\n3-Leg 45 3x aumentando a carga + passada\\n3-Hack 20/15/10/8/6 + final drop\\n4-Leg 90 3x dropp com 10 segundos de isometria\\n5-Sumo 3x 2 repeticoes segura 2 sendos de isometria , 3 repeticoes segura segura segundos de isometria,4....6\\nPassada cubana 4x\\n7-Panturrilha no smith 3x aumentando a carga\\n')\n",
        "  print('Treino de superiores\\nTerca e quinta\\n1-Puxador de frente com a pegada supinada 3x aumentando a carga\\n2-Remada baixa 3x15 + 15 movimento curto\\n3-Remada livre 3x15 + encolhimento\\n4-Crucifixo 5x15\\n5-Pully corda 4x6-20 + testa até a falha\\n6-Rosca no cross 3x drop\\n7-Desenvolvimento de frente 5x15\\n')\n",
        "  print('Treino de inferiores\\nQuarta\\n1-Elevacao do quadril 4x aumentando a carga + sumo até a falha\\n2-Avanco 3x15 + 15 com halter\\n3-Extensao do quadril no cross 3x20\\n4-Abdutor 3x stripset com 10 segundos de isometria\\n5-Terra sumo 4x15\\n5-Stiff 3x aumentando a carga\\n6-Mesa flexora 3x strip set\\n7-Flexao vertical 3x RRA\\n')\n",
        "  print('Treino de inferiores\\nSexta\\n1-Cadeira extensora 3x juro/juro\\n2-Agachamento livre 4x15\\n3-Leg 45 3x aumentando a carga + passada\\n4-Panturrilha no smith 3x aumentando a carga\\n5-Elevacao do quadril 3x aumentando a carga + sumo até a falha\\n6-Abdutor 3x strip set c0m 10 segundos de isometria\\n7-Mesa flexora 3x strip set\\n')\n",
        "\n",
        "elif (opcao == '1') and (nivel1 == '4'):\n",
        "  print('\\nTreino de inferiores\\nSegunda\\n1-Cadeira extensora unilateral 3x15\\n2-Cadeira extensora 3x 5 segura 5 segundos na isometria,10 segura 10 segundos na isometria,15 segura 15 segundos na isometria + até a falha + 1 minuto no elíptico\\n3-Agachamento livre 3x aumentando a carga + 30x step\\n4-Leg 45 3x 3 curto + 3 completo até a falha + 50x corda\\n5-Squat 3x15 com os pés abduzido + 15 com os pés médio + 15 com os pés juntos\\n6-Leg 90 2x drop + 30x abs\\n')\n",
        "  print('Treino de superiores\\nTerca e quinta\\n1-Bi articular 3x15 unilateral + 30x step\\n2-remada baixa 3xstripset + 30x swing\\n3-Remada cavalo 3xdrop + 30x abs\\n-4-Supino reto na barra + crucifixo 15x\\n5-Testa no cross 5x15 + pully xx + 50x corda\\n6-rosca no scott 3xx\\n7-Remada alta 3x drop + elevacao frontal no cross 3xx + 1 minuto na bike\\n')\n",
        "  print('Treino de inferiores\\nQuarta\\n1-Elevacao do quadril 3x aumentando a carga + 50x corda\\n2-Búlgaro 3x15 + 30x swing\\n3-Abdutor 3x 5 segura 5 segundos na ismetria,10 segura 10 segundos na isometria,15 segura 15 segundos na isometria+ até a falha + 1 minuto no elíptico\\n4-Sumo 3x 15 com halter + xx com o peso do corpo + 50x corda\\n5-4 minuto de corrida na esteira\\n6-Mesa flexora 3x stripset\\n7-Panturrilhano smith 3x drop\\n')\n",
        "  print('Treino de inferiores\\nSexta\\n1-CAdeira extensora 3x 5 seguea 5 segundos na isometria,10 segura 10 segundos na isometria,15 segura 15 segundos na isometria + 1 minuto no elíptico\\n2-Leg 45 3x 3 curto + 3 completo até a falha + 50x corda\\n3-Panturrilha no smith 3x drop\\n4- Abdutor 3x 5 segiura 5 segundos na isometria,10 segura 10 segundos na isometria,15 segura 15 segundos na isometria + até a falha + 1 minuto no elíptico\\\\n5-Búlgaro 3x15 + 30x swing\\n6-Mesa flexora 3x stripset\\n7-Panturrilha no smith 3x drop\\n')\n",
        "elif (opcao == '2') and (nivel1 == '4'):\n",
        "  print('\\nTreino de inferiores\\nSegunda\\n1-Cadeira extensora unilateral 3x15\\n2-cadeira extensora 3x 5 segura 5 segundos na isometria,10 segura 10 segundos na isometria,15 segura 15 segundos na isometria\\n3-Agachamento livre 3x aumentando a carga + sumo até a falha\\n4-Leg 45 3x 3 curto + 3 completo até a falha\\n5-Hach 3x carga alta + drop\\n5-Leg 90 3x 15 com 3 pico de 3 segundos + até a falha\\n6-Passada com barra 4x20 passos\\n7-Panturrilha 3x drop\\n')\n",
        "  print('Treino de superiores\\nTerca e quinta\\n1-Bi articular 3x15 unilateral\\n2-Remada baixa 3xstripset\\n3-Remada cavalo 3xdrop\\n4-Supino reto na barra 3x15 + crucifixo até a falha\\n5-Testa no cross + pully até a falha\\n6-Rosca direta scott 3x até a falha\\n7-Remada alta + elevacao frontal no cross até a falha 5xx\\n '\n",
        "  print('Treino de inferiores\\nQuarta\\n1-Elevacao do quadril 3x 15 pico de contracao de 3 segundos + 15 direto + stiff até a falha\\n2-Bulgaro 3x15 com halter + 15 sem peso\\n3-extensao do quadril no cross 3x15\\n4-Abdutor 3x 5 segura 5 segundos na isometria,10 segura 10 segundos na isometria,15 segura 15 segundos na isometria + até a falha\\n5-Sumo 3xdrop\\n6-Mesa flexora 3xstripset\\n7-Leg 90 3x carga alta\\n')\n",
        "  print('Treino de inferiores\\nSexta\\n1-Elevacao do quadril 3x15 com pico de contracao + 15 direto + stiff até a falha\\n2-Búlgaro 3x15 com halter + 15 sem peso\\n3-Abdutor 3x5 segura 5 segundos na isometria,10 segura 10 segundos na isometria,15 segura 15 segundos na isometria + até a falha\\n4-Cadeira extensora 3x5 segura 5 segundos na isometria,10 segura 10 segundos na isometria,15 segura segundos na isometria\\n5-Leg 45 3x3 curto + 3 completo até a falha\\n6-Hack 3x carga alta + drop\\n7-Panturrilha no smith 3xdrop')\n",
        "else:\n",
        "  print('BOM TREINO!')\n"
      ]
    }
  ],
  "metadata": {
    "colab": {
      "collapsed_sections": [],
      "name": "Cópia de Cópia de Olá, este é o Colaboratory",
      "provenance": [],
      "include_colab_link": true
    },
    "kernelspec": {
      "display_name": "Python 3",
      "name": "python3"
    }
  },
  "nbformat": 4,
  "nbformat_minor": 0
}